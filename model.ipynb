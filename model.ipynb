{
 "cells": [
  {
   "cell_type": "code",
   "execution_count": 1,
   "metadata": {
    "collapsed": true
   },
   "outputs": [],
   "source": [
    "import csv\n",
    "import cv2\n",
    "import numpy as np\n",
<<<<<<< HEAD
    "## loading the first set of training data\n",
||||||| merged common ancestors
    "\n",
=======
    ## reading the first set of training data
    "\n",
>>>>>>> b85eee24dfb6fcc048f1d7f094efac46d6eb3e89
    "lines = []\n",
    "with open('/home/carnd/CarND-LeNet-Lab/CarND-Behavioral-cloning-P3/data5/driving_log.csv') as csvfile:\n",
    "    reader = csv.reader(csvfile)\n",
    "    for line in reader:\n",
    "        lines.append(line)\n",
    "        \n",
    "images = []\n",
    "measurements = []\n",
    "for line in lines:\n",
    "    for i in range(3):\n",
    "        source_path = line[i]\n",
    "        filename = source_path.split('/')[-1]\n",
    "        current_path = '/home/carnd/CarND-LeNet-Lab/CarND-Behavioral-cloning-P3/data5/IMG/'+filename\n",
    "        image = cv2.imread(current_path)\n",
    "        images.append(image)\n",
    "        measurement = float(line[3])\n",
    "        measurements.append(measurement)\n",
    "    "
   ]
  },
  {
   "cell_type": "code",
   "execution_count": 2,
   "metadata": {
    "collapsed": true
   },
   "outputs": [],
   "source": [
    "## loading the second set of training data and adding it on top of the first \n",
    "lines = []\n",
    "with open('/home/carnd/CarND-LeNet-Lab/CarND-Behavioral-cloning-P3/data3/driving_log.csv') as csvfile:\n",
    "    reader = csv.reader(csvfile)\n",
    "    for line in reader:\n",
    "        lines.append(line)\n",
    "for line in lines:\n",
    "    for i in range(3):\n",
    "        source_path = line[i]\n",
    "        filename = source_path.split('/')[-1]\n",
    "        current_path = '/home/carnd/CarND-LeNet-Lab/CarND-Behavioral-cloning-P3/data3/IMG/'+filename\n",
    "        image = cv2.imread(current_path)\n",
    "        images.append(image)\n",
    "        measurement = float(line[3])\n",
    "        measurements.append(measurement)"
   ]
  },
  {
   "cell_type": "code",
   "execution_count": 3,
   "metadata": {
    "collapsed": true
   },
   "outputs": [],
   "source": [
    "## loading the third set of training data and adding it to first and second \n",
    "lines = []\n",
    "with open('/home/carnd/CarND-LeNet-Lab/CarND-Behavioral-cloning-P3/data4/driving_log.csv') as csvfile:\n",
    "    reader = csv.reader(csvfile)\n",
    "    for line in reader:\n",
    "        lines.append(line)\n",
    "        \n",
    "for line in lines:\n",
    "    for i in range(3):\n",
    "        source_path = line[i]\n",
    "        filename = source_path.split('/')[-1]\n",
    "        current_path = '/home/carnd/CarND-LeNet-Lab/CarND-Behavioral-cloning-P3/data4/IMG/'+filename\n",
    "        image = cv2.imread(current_path)\n",
    "        images.append(image)\n",
    "        measurement = float(line[3])\n",
    "        measurements.append(measurement)"
   ]
  },
  {
   "cell_type": "code",
   "execution_count": 3,
   "metadata": {
    "collapsed": true
   },
   "outputs": [],
   "source": [
    "## loading the fourth set of training data and adding it to first and second \n",
    "lines = []\n",
    "with open('/home/carnd/CarND-LeNet-Lab/CarND-Behavioral-cloning-P3/data2/driving_log.csv') as csvfile:\n",
    "    reader = csv.reader(csvfile)\n",
    "    for line in reader:\n",
    "        lines.append(line)\n",
    "        \n",
    "for line in lines:\n",
    "    for i in range(3):\n",
    "        source_path = line[i]\n",
    "        filename = source_path.split('/')[-1]\n",
    "        current_path = '/home/carnd/CarND-LeNet-Lab/CarND-Behavioral-cloning-P3/data2/IMG/'+filename\n",
    "        image = cv2.imread(current_path)\n",
    "        images.append(image)\n",
    "        measurement = float(line[3])\n",
    "        measurements.append(measurement)"
   ]
  },
  {
   "cell_type": "code",
   "execution_count": 4,
   "metadata": {
    "collapsed": true
   },
   "outputs": [],
   "source": [
    "## augmenting all the training data\n",
    "augmented_images, augmented_measurements = [],[]\n",
    "for image,measurement in zip(images, measurements):\n",
    "    augmented_images.append(image)\n",
    "    augmented_measurements.append(measurement)\n",
    "    augmented_images.append(cv2.flip(image,1))\n",
    "    augmented_measurements.append(measurements*(-1))"
   ]
  },
  {
   "cell_type": "code",
   "execution_count": 17,
   "metadata": {},
   "outputs": [
    {
     "name": "stdout",
     "output_type": "stream",
     "text": [
      "Train on 21751 samples, validate on 5438 samples\n",
      "Epoch 1/3\n",
      "21751/21751 [==============================] - 52s - loss: 0.0518 - val_loss: 0.1573\n",
      "Epoch 2/3\n",
      "21751/21751 [==============================] - 58s - loss: 0.0345 - val_loss: 0.1503\n",
      "Epoch 3/3\n",
      "21751/21751 [==============================] - 67s - loss: 0.0314 - val_loss: 0.1439\n"
     ]
    }
   ],
   "source": [
<<<<<<< HEAD
    "X_train = np.array(images)\n",
    "y_train = np.array(measurements)\n",
    "## building the convolutional network and training it\n",
||||||| merged common ancestors
    "#X_train = np.array(images)\n",
    "#y_train = np.array(measurements)\n",
    "\n",
=======
    "X_train = np.array(images)\n",
    "y_train = np.array(measurements)\n",
    "\n",
>>>>>>> b85eee24dfb6fcc048f1d7f094efac46d6eb3e89
    "from keras.models import Sequential\n",
    "from keras.layers import Flatten,Dense,Lambda,Cropping2D\n",
    "from keras.layers.convolutional import Convolution2D\n",
    "from keras.layers.pooling import MaxPooling2D\n",
    "\n",
    "model = Sequential()\n",
    "model.add(Lambda(lambda x: x/255-0.5,input_shape=(160,320,3)))\n",
    "model.add(Cropping2D(cropping=((70,25),(0,0))))\n",
    "model.add(Convolution2D(28, 5, 5,subsample=(2,2),activation=\"relu\"))\n",
    "model.add(Convolution2D(36, 5, 5,subsample=(2,2),activation=\"relu\"))\n",
    "model.add(Convolution2D(48, 5, 5,subsample=(2,2),activation=\"relu\"))\n",
    "model.add(Convolution2D(64, 3, 3,activation=\"relu\"))\n",
    "model.add(Convolution2D(74, 3, 3,activation=\"relu\"))\n",
    "model.add(Flatten())\n",
    "model.add(Dense(200))\n",
    "model.add(Dense(150))\n",
    "model.add(Dense(50))\n",
    "model.add(Dense(50))\n",
    "model.add(Dense(1))\n",
    "\n",
    "\n",
    "model.compile(loss='mse', optimizer='adam')\n",
    "model.fit(X_train, y_train, validation_split=0.2, shuffle=True,nb_epoch=3)\n",
    "\n",
    "model.save('model1.h5')\n"
   ]
  },
  {
   "cell_type": "code",
   "execution_count": null,
   "metadata": {
    "collapsed": true
   },
   "outputs": [],
   "source": []
  },
  {
   "cell_type": "code",
   "execution_count": null,
   "metadata": {
    "collapsed": true
   },
   "outputs": [],
   "source": []
  }
 ],
 "metadata": {
  "anaconda-cloud": {},
  "kernelspec": {
   "display_name": "Python 3",
   "language": "python",
   "name": "python3"
  },
  "language_info": {
   "codemirror_mode": {
    "name": "ipython",
    "version": 3
   },
   "file_extension": ".py",
   "mimetype": "text/x-python",
   "name": "python",
   "nbconvert_exporter": "python",
   "pygments_lexer": "ipython3",
   "version": "3.5.2"
  },
  "widgets": {
   "state": {},
   "version": "1.1.2"
  }
 },
 "nbformat": 4,
 "nbformat_minor": 2
}
