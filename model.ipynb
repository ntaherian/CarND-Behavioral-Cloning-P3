{
 "cells": [
  {
   "cell_type": "code",
   "execution_count": 1,
   "metadata": {
    "collapsed": true
   },
   "outputs": [],
   "source": [
    "import csv\n",
    "import cv2\n",
    "import numpy as np\n",
    "## loading the first set of training data\n",
    "lines = []\n",
    "with open('/home/carnd/CarND-LeNet-Lab/CarND-Behavioral-cloning-P3/data5/driving_log.csv') as csvfile:\n",
    "    reader = csv.reader(csvfile)\n",
    "    for line in reader:\n",
    "        lines.append(line)\n",
    "        \n",
    "images = []\n",
    "measurements = []\n",
    "for line in lines:\n",
    "    for i in range(3):\n",
    "        source_path = line[i]\n",
    "        filename = source_path.split('/')[-1]\n",
    "        current_path = '/home/carnd/CarND-LeNet-Lab/CarND-Behavioral-cloning-P3/data5/IMG/'+filename\n",
    "        image = cv2.imread(current_path)\n",
    "        images.append(image)\n",
    "        measurement = float(line[3])\n",
    "        measurements.append(measurement)\n",
    "    "
   ]
  },
  {
   "cell_type": "code",
   "execution_count": 2,
   "metadata": {
    "collapsed": true
   },
   "outputs": [],
   "source": [
    "## loading the second set of training data and adding it on top of the first \n",
    "lines = []\n",
    "with open('/home/carnd/CarND-LeNet-Lab/CarND-Behavioral-cloning-P3/data3/driving_log.csv') as csvfile:\n",
    "    reader = csv.reader(csvfile)\n",
    "    for line in reader:\n",
    "        lines.append(line)\n",
    "for line in lines:\n",
    "    for i in range(3):\n",
    "        source_path = line[i]\n",
    "        filename = source_path.split('/')[-1]\n",
    "        current_path = '/home/carnd/CarND-LeNet-Lab/CarND-Behavioral-cloning-P3/data3/IMG/'+filename\n",
    "        image = cv2.imread(current_path)\n",
    "        images.append(image)\n",
    "        measurement = float(line[3])\n",
    "        measurements.append(measurement)"
   ]
  },
  {
   "cell_type": "code",
   "execution_count": 3,
   "metadata": {
    "collapsed": true
   },
   "outputs": [],
   "source": [
    "## loading the third set of training data and adding it to first and second \n",
    "lines = []\n",
    "with open('/home/carnd/CarND-LeNet-Lab/CarND-Behavioral-cloning-P3/data4/driving_log.csv') as csvfile:\n",
    "    reader = csv.reader(csvfile)\n",
    "    for line in reader:\n",
    "        lines.append(line)\n",
    "        \n",
    "for line in lines:\n",
    "    for i in range(3):\n",
    "        source_path = line[i]\n",
    "        filename = source_path.split('/')[-1]\n",
    "        current_path = '/home/carnd/CarND-LeNet-Lab/CarND-Behavioral-cloning-P3/data4/IMG/'+filename\n",
    "        image = cv2.imread(current_path)\n",
    "        images.append(image)\n",
    "        measurement = float(line[3])\n",
    "        measurements.append(measurement)"
   ]
  },
  {
   "cell_type": "code",
   "execution_count": 4,
   "metadata": {
    "collapsed": true
   },
   "outputs": [],
   "source": [
    "## loading the fourth set of training data and adding it to first and second \n",
    "lines = []\n",
    "with open('/home/carnd/CarND-LeNet-Lab/CarND-Behavioral-cloning-P3/data2/driving_log.csv') as csvfile:\n",
    "    reader = csv.reader(csvfile)\n",
    "    for line in reader:\n",
    "        lines.append(line)\n",
    "        \n",
    "for line in lines:\n",
    "    for i in range(3):\n",
    "        source_path = line[i]\n",
    "        filename = source_path.split('/')[-1]\n",
    "        current_path = '/home/carnd/CarND-LeNet-Lab/CarND-Behavioral-cloning-P3/data2/IMG/'+filename\n",
    "        image = cv2.imread(current_path)\n",
    "        images.append(image)\n",
    "        measurement = float(line[3])\n",
    "        measurements.append(measurement)"
   ]
  },
  {
   "cell_type": "code",
   "execution_count": 4,
   "metadata": {
    "collapsed": true
   },
   "outputs": [],
   "source": [
    "## augmenting all the training data\n",
    "augmented_images, augmented_measurements = [],[]\n",
    "for image,measurement in zip(images, measurements):\n",
    "    augmented_images.append(image)\n",
    "    augmented_measurements.append(measurement)\n",
    "    augmented_images.append(cv2.flip(image,1))\n",
    "    augmented_measurements.append(measurements*(-1))"
   ]
  },
  {
   "cell_type": "code",
   "execution_count": 14,
   "metadata": {},
   "outputs": [
    {
     "name": "stdout",
     "output_type": "stream",
     "text": [
      "Train on 21751 samples, validate on 5438 samples\n",
      "Epoch 1/3\n",
      "21751/21751 [==============================] - 49s - loss: 0.0435 - val_loss: 0.1826\n",
      "Epoch 2/3\n",
      "21751/21751 [==============================] - 48s - loss: 0.0337 - val_loss: 0.1451\n",
      "Epoch 3/3\n",
      "21751/21751 [==============================] - 48s - loss: 0.0328 - val_loss: 0.1472\n",
      "____________________________________________________________________________________________________\n",
      "Layer (type)                     Output Shape          Param #     Connected to                     \n",
      "====================================================================================================\n",
      "lambda_5 (Lambda)                (None, 160, 320, 3)   0           lambda_input_5[0][0]             \n",
      "____________________________________________________________________________________________________\n",
      "cropping2d_5 (Cropping2D)        (None, 65, 320, 3)    0           lambda_5[0][0]                   \n",
      "____________________________________________________________________________________________________\n",
      "convolution2d_21 (Convolution2D) (None, 31, 158, 28)   2128        cropping2d_5[0][0]               \n",
      "____________________________________________________________________________________________________\n",
      "convolution2d_22 (Convolution2D) (None, 14, 77, 36)    25236       convolution2d_21[0][0]           \n",
      "____________________________________________________________________________________________________\n",
      "convolution2d_23 (Convolution2D) (None, 5, 37, 48)     43248       convolution2d_22[0][0]           \n",
      "____________________________________________________________________________________________________\n",
      "convolution2d_24 (Convolution2D) (None, 3, 35, 64)     27712       convolution2d_23[0][0]           \n",
      "____________________________________________________________________________________________________\n",
      "convolution2d_25 (Convolution2D) (None, 1, 33, 74)     42698       convolution2d_24[0][0]           \n",
      "____________________________________________________________________________________________________\n",
      "flatten_5 (Flatten)              (None, 2442)          0           convolution2d_25[0][0]           \n",
      "____________________________________________________________________________________________________\n",
      "dense_21 (Dense)                 (None, 200)           488600      flatten_5[0][0]                  \n",
      "____________________________________________________________________________________________________\n",
      "dropout_1 (Dropout)              (None, 200)           0           dense_21[0][0]                   \n",
      "____________________________________________________________________________________________________\n",
      "dense_22 (Dense)                 (None, 150)           30150       dropout_1[0][0]                  \n",
      "____________________________________________________________________________________________________\n",
      "dropout_2 (Dropout)              (None, 150)           0           dense_22[0][0]                   \n",
      "____________________________________________________________________________________________________\n",
      "dense_23 (Dense)                 (None, 50)            7550        dropout_2[0][0]                  \n",
      "____________________________________________________________________________________________________\n",
      "dropout_3 (Dropout)              (None, 50)            0           dense_23[0][0]                   \n",
      "____________________________________________________________________________________________________\n",
      "dense_24 (Dense)                 (None, 50)            2550        dropout_3[0][0]                  \n",
      "____________________________________________________________________________________________________\n",
      "dense_25 (Dense)                 (None, 1)             51          dense_24[0][0]                   \n",
      "====================================================================================================\n",
      "Total params: 669,923\n",
      "Trainable params: 669,923\n",
      "Non-trainable params: 0\n",
      "____________________________________________________________________________________________________\n",
      "dict_keys(['loss', 'val_loss'])\n"
     ]
    },
    {
     "data": {
      "image/png": "[encoded data removed]",
      "text/plain": [
       "<matplotlib.figure.Figure at 0x7f13bd1a69b0>"
      ]
     },
     "metadata": {},
     "output_type": "display_data"
    }
   ],
   "source": [
    "X_train = np.array(images)\n",
    "y_train = np.array(measurements)\n",
    "## building the convolutional network and training it\n",
    "from keras.models import Sequential\n",
    "from keras.layers import Flatten,Dense,Lambda,Cropping2D\n",
    "from keras.layers.convolutional import Convolution2D\n",
    "from keras.layers.pooling import MaxPooling2D\n",
    "from keras.layers import Dropout\n",
    "\n",
    "model = Sequential()\n",
    "model.add(Lambda(lambda x: x/255-0.5,input_shape=(160,320,3)))\n",
    "model.add(Cropping2D(cropping=((70,25),(0,0))))\n",
    "model.add(Convolution2D(28, 5, 5,subsample=(2,2),activation=\"relu\"))\n",
    "model.add(Convolution2D(36, 5, 5,subsample=(2,2),activation=\"relu\"))\n",
    "model.add(Convolution2D(48, 5, 5,subsample=(2,2),activation=\"relu\"))\n",
    "model.add(Convolution2D(64, 3, 3,activation=\"relu\"))\n",
    "model.add(Convolution2D(74, 3, 3,activation=\"relu\"))\n",
    "model.add(Flatten())\n",
    "model.add(Dense(200))\n",
    "model.add(Dropout(0.2))\n",
    "model.add(Dense(150))\n",
    "model.add(Dropout(0.2))\n",
    "model.add(Dense(50))\n",
    "model.add(Dropout(0.2))\n",
    "model.add(Dense(50))\n",
    "model.add(Dense(1))\n",
    "\n",
    "\n",
    "model.compile(loss='mse', optimizer='adam')\n",
    "history = model.fit(X_train, y_train, validation_split=0.2, shuffle=True,nb_epoch=3)\n",
    "\n",
    "model.save('model1.h5')\n",
    "model.summary()\n",
    "\n",
    "# list all data in history\n",
    "print(history.history.keys())\n",
    "\n",
    "# summarize history for loss\n",
    "plt.plot(history.history['loss'])\n",
    "plt.plot(history.history['val_loss'])\n",
    "plt.title('model loss')\n",
    "plt.ylabel('loss')\n",
    "plt.xlabel('epoch')\n",
    "plt.legend(['train', 'test'], loc='upper left')\n",
    "plt.show()"
   ]
  },
  {
   "cell_type": "code",
   "execution_count": null,
   "metadata": {
    "collapsed": true
   },
   "outputs": [],
   "source": []
  }
 ],
 "metadata": {
  "anaconda-cloud": {},
  "kernelspec": {
   "display_name": "Python 3",
   "language": "python",
   "name": "python3"
  },
  "language_info": {
   "codemirror_mode": {
    "name": "ipython",
    "version": 3
   },
   "file_extension": ".py",
   "mimetype": "text/x-python",
   "name": "python",
   "nbconvert_exporter": "python",
   "pygments_lexer": "ipython3",
   "version": "3.5.2"
  },
  "widgets": {
   "state": {},
   "version": "1.1.2"
  }
 },
 "nbformat": 4,
 "nbformat_minor": 2
}
